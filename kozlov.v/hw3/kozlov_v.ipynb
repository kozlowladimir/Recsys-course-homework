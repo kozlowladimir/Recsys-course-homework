{
 "cells": [
  {
   "cell_type": "code",
   "execution_count": 1,
   "metadata": {},
   "outputs": [],
   "source": [
    "from typing import List, Tuple\n",
    "\n",
    "import numpy as np\n",
    "from matplotlib import pyplot as plt\n",
    "import pandas as pd\n",
    "from sklearn.metrics import log_loss\n",
    "from sklearn.preprocessing import LabelEncoder\n",
    "import xlearn as xl\n",
    "\n",
    "% matplotlib inline"
   ]
  },
  {
   "cell_type": "code",
   "execution_count": 2,
   "metadata": {},
   "outputs": [],
   "source": [
    "def decrease_cardinality(\n",
    "    df: pd.DataFrame,\n",
    "    feature: str,\n",
    "    threshold: float = 0.95,\n",
    ") -> pd.DataFrame:\n",
    "    \"\"\"Уменьшает размерность признака по заданным параметрам\"\"\"\n",
    "    x = df[feature].value_counts(1).cumsum()\n",
    "    values = x[x >= threshold].index\n",
    "    df.loc[df[feature].isin(values), feature] = values.min()\n",
    "    \n",
    "    return df\n",
    "\n",
    "def analyze_feature(df, feature, percent):\n",
    "    x = df[feature].value_counts(1).cumsum()\n",
    "\n",
    "    print(\n",
    "        f\"\"\"\n",
    "    Краткая информация по признаку \"{feature}\":\n",
    "        Количество уникальный значений: {df[feature].nunique()}\n",
    "        В {percent*100}% встречается лишь {x[x< percent].shape[0]} значений признака\n",
    "        \"\"\"\n",
    "     )\n",
    "    \n",
    "    return None\n",
    "\n",
    "def analyze_time(df: pd.DataFrame):\n",
    "    print(df['date_time'].dt.date.value_counts().sort_index())\n",
    "    \n",
    "    print('''\n",
    "Имеем один показ 1 сентября. Какой-то залетный, можно его удалить.\n",
    "Показы проводились неделю следовательно бессмысленно пытаться использовать\n",
    "день недели как принзак т.к. один недели встречается лишь в одну дату.\n",
    "    ''')\n",
    "    \n",
    "    x = df.groupby('hour')['clicks'].agg(['mean', 'count'])\n",
    "    plt.plot(x['mean'])\n",
    "    plt.title('Конверсия в зависимости от часа показа')\n",
    "    plt.show()\n",
    "    print(\"\"\"\n",
    "Есть дневная цикличность. Возможно она поможет в построении модели.\n",
    "    \"\"\")\n",
    "\n",
    "def analyze_os(df: pd.DataFrame):\n",
    "    x = df.groupby('os_id')['clicks'].agg(['mean', 'count'])\n",
    "    plt.scatter(x.index, x['mean'])\n",
    "    plt.title('Конверсия в зависимости от типа ОС')\n",
    "    plt.show()\n",
    "    \n",
    "    print(\"\"\"\n",
    "Однозначно стоит использовать данный признак.\n",
    "    \"\"\")\n",
    "\n",
    "def analyze_country(df: pd.DataFrame):\n",
    "    x = df.groupby('country_id')['clicks'].agg(['mean', 'count'])\n",
    "    plt.scatter(x.index, x['mean'])\n",
    "    plt.title('Конверсия в зависимости от страны показа')\n",
    "    plt.show()\n",
    "    \n",
    "    print(\"\"\"\n",
    "Однозначно стоит использовать данный признак.\n",
    "    \"\"\")\n",
    "\n",
    "def analysis(df: pd.DataFrame):\n",
    "    \n",
    "    analyze_time(df)\n",
    "    print('################################')\n",
    "    \n",
    "    analyze_os(df)\n",
    "    print('################################')\n",
    "    \n",
    "    analyze_country(df)\n",
    "    print('################################')\n",
    "    \n",
    "    features_to_analyze = ['zone_id', 'banner_id', 'os_id', 'country_id']\n",
    "    for feature in features_to_analyze:\n",
    "        print(feature)\n",
    "        analyze_feature(df, feature, percent=0.95)"
   ]
  },
  {
   "cell_type": "code",
   "execution_count": 3,
   "metadata": {},
   "outputs": [],
   "source": [
    "def feature_engineering(df: pd.DataFrame) -> pd.DataFrame:\n",
    "   \n",
    "    # считаем среднее число кликов по баннеру за вчерашний день\n",
    "    mapper = df.groupby(['banner_id', df['date_time'].dt.date])['clicks'].mean().reset_index()\n",
    "    mapper = mapper.rename(columns={'clicks': 'clicks_prev_day_mean'}) \n",
    "    df['next_day'] = (df['date_time'] - pd.to_timedelta('1d')).dt.date\n",
    "    \n",
    "    df = pd.merge(\n",
    "        df,\n",
    "        mapper,\n",
    "        left_on=['banner_id', 'next_day'],\n",
    "        right_on=['banner_id', 'date_time'],\n",
    "        how='left'\n",
    "    )\n",
    "    \n",
    "    del df['date_time_y']\n",
    "    del df['next_day']\n",
    "    df = df.rename(columns={'date_time_x': 'date_time'})\n",
    "\n",
    "    # считаем среднее число кликов по баннеру за вчерашний день\n",
    "    df['shows_cur_day'] = df.groupby([df['date_time'].dt.date, 'banner_id'])['clicks'].transform('count')\n",
    "    df['shows_prev_day'] = df.groupby([df['date_time'].dt.date, 'banner_id'])['shows_cur_day'].transform('shift')\n",
    "    del df['shows_cur_day']\n",
    "    \n",
    "    mapper = df.groupby(['banner_id', df['date_time'].dt.date])['clicks'].count().reset_index()\n",
    "    mapper = mapper.rename(columns={'clicks': 'interest_prev_day_mean'}) \n",
    "    df['next_day'] = (df['date_time'] - pd.to_timedelta('1d')).dt.date\n",
    "    \n",
    "    df = pd.merge(\n",
    "        df,\n",
    "        mapper,\n",
    "        left_on=['banner_id', 'next_day'],\n",
    "        right_on=['banner_id', 'date_time'],\n",
    "        how='left'\n",
    "    )\n",
    "    \n",
    "    del df['date_time_y']\n",
    "    del df['next_day']\n",
    "    df = df.rename(columns={'date_time_x': 'date_time'})\n",
    "\n",
    "    df['shown_prev_day'] = df['clicks_prev_day_mean'].notnull().astype('int')\n",
    "    # совсем неочевидно, что заполять пропуски значением 0 есть хорошо,\n",
    "    # но другого нормального варианта я тут не вижу\n",
    "    df.loc[df['shown_prev_day'] == 0, 'clicks_prev_day_mean'] = 0\n",
    "    df.loc[df['shown_prev_day'] == 0, 'interest_prev_day_mean'] = 0\n",
    "    \n",
    "    # на мобильных устройствах и ПК удобство просмотра одних и тех же зон может быть разным\n",
    "    df['zone_id_os_id'] = df['zone_id'].astype('str') + '_' + df['os_id'].astype('str')\n",
    "    \n",
    "    # возможно, что некоторые баннеры показываются только \n",
    "    # в определнных местах и из-за этого плохие клики\n",
    "    df['banner_id_zone_id'] = df['banner_id'].astype('str') + '_' + df['zone_id'].astype('str')\n",
    "\n",
    "    # в разных странах может быть разная реакция на один и тот же баннер\n",
    "    df['banner_id_country_id'] = df['banner_id'].astype('str') + '_' + df['country_id'].astype('str')\n",
    "    \n",
    "    return df\n",
    "\n",
    "def encode_cat_features(train, valid, cat_features):\n",
    "    for cat_feature in cat_features:\n",
    "        le = LabelEncoder()\n",
    "        le.fit(pd.concat([train, valid], axis=0, ignore_index=True)[cat_feature])\n",
    "        train[cat_feature] = le.transform(train[cat_feature])\n",
    "        valid[cat_feature] = le.transform(valid[cat_feature])\n",
    "    \n",
    "    return train, valid\n",
    "\n",
    "def create_string(df, num_features, cat_features):\n",
    "    strings = df['clicks'].astype('str')\n",
    "\n",
    "    index = 0\n",
    "    for num_feature in num_features:\n",
    "        strings = strings + ' ' + f\"{index}:0:\" + df[num_feature].astype('str')\n",
    "        index +=1\n",
    "\n",
    "    for cat_feature in cat_features:\n",
    "        strings = strings + ' ' + f\"{index}:\" + df[cat_feature].astype('str') + ':1'\n",
    "        index +=1\n",
    "\n",
    "    strings = strings + '\\n'\n",
    "    strings = strings.values.tolist()\n",
    "    return strings\n",
    "\n",
    "def convert_to_ffm(train, train_path, valid, valid_path, num_features, cat_features):\n",
    "    train, valid = encode_cat_features(train, valid, cat_features)\n",
    "\n",
    "    train_strings = create_string(train, num_features, cat_features)\n",
    "    print('Done making train strings')\n",
    "    valid_strings = create_string(valid, num_features, cat_features)\n",
    "    print('Done making valid strings')\n",
    "\n",
    "    with open(train_path, 'w') as f:\n",
    "        for row in train_strings:\n",
    "            f.write(row)  \n",
    "    print('Done writing train strings') \n",
    "    \n",
    "    with open(valid_path, 'w') as f:\n",
    "        for row in valid_strings:\n",
    "            f.write(row)\n",
    "    print('Done writing valid strings')       \n",
    "\n",
    "def cv(\n",
    "    x_train: pd.DataFrame,\n",
    "    path_to_train_data,\n",
    "    y_train: pd.Series,\n",
    "    path_to_valid_data,\n",
    "    indexes: List[Tuple[int]],\n",
    "    num_features,\n",
    "    cat_features,\n",
    "    model_params,\n",
    "    path_to_model,\n",
    "    path_to_predictions,\n",
    "    is_sliding=True\n",
    "): \n",
    "    \"\"\"\n",
    "    Производит кроссвалидацию по времени. Возможны два режима работы: скользящим окном\n",
    "    или расширающимся окном. В скользящем окне обучение происходит за промежуток времени,\n",
    "    который каждый раз смещается вперед во времени. В расширяющемся окне данные для обучения\n",
    "    все время увеличиваются вперед во времени.\n",
    "    \n",
    "    @param: x_train Спарс матрица с тренировочными данными\n",
    "    @param: y_train pd.Series с таргетами\n",
    "    @param: indexes Индексы для создания трейна и валидации\n",
    "    @param: C обратный коэффициент регуляриации \n",
    "    @param: is_sliding использовать сколзящее окно или нет.\n",
    "    \n",
    "    \"\"\"\n",
    "    losses = []\n",
    "    models = []\n",
    "    \n",
    "    # Стартовый индекс для расширяющегося окна\n",
    "    train_start_index = indexes[0][0]\n",
    "    \n",
    "    for train_ind_start, train_ind_end, val_ind_end in indexes:\n",
    "        if is_sliding:\n",
    "            x_train_inner = x_train.loc[train_ind_start: train_ind_end]\n",
    "            y_train_inner = y_train.loc[train_ind_start: train_ind_end]\n",
    "\n",
    "            x_val_inner = x_train.loc[train_ind_end: val_ind_end]\n",
    "            y_val_inner = y_train.loc[train_ind_end: val_ind_end]\n",
    "        else:\n",
    "            x_train_inner = x_train.loc[train_start_index: train_ind_end]\n",
    "            y_train_inner = y_train.loc[train_start_index: train_ind_end]\n",
    "\n",
    "            x_val_inner = x_train.loc[train_ind_end: val_ind_end]\n",
    "            y_val_inner = y_train.loc[train_ind_end: val_ind_end]\n",
    "        \n",
    "        print(f'Train size: {x_train_inner.shape[0]}')\n",
    "        print(f'Valid size: {x_val_inner.shape[0]}')\n",
    "        \n",
    "        print('Converting data to ffm_lib file format')\n",
    "        convert_to_ffm(\n",
    "            x_train_inner.copy(),\n",
    "            path_to_train_data,\n",
    "            x_val_inner.copy(),\n",
    "            path_to_valid_data,\n",
    "            num_features,\n",
    "            cat_features,\n",
    "        )\n",
    "        \n",
    "        print('Learning')\n",
    "        model = xl.create_ffm()\n",
    "        model.setTrain(path_to_train_data)\n",
    "        model.setValidate(path_to_valid_data)\n",
    "        model.fit(model_params, path_to_model)\n",
    "        model.setTest(path_to_valid_data)\n",
    "        model.setSigmoid()\n",
    "        model.predict(path_to_model, path_to_predictions)\n",
    "        \n",
    "        with open(path_to_predictions, 'r') as f:\n",
    "            data = f.read().split('\\n')[:-1]\n",
    "        \n",
    "        loss = log_loss(y_val_inner, pd.Series(data).astype('float'))\n",
    "        print(f'Logloss: {round(loss, 4)}')\n",
    "        \n",
    "        losses.append(loss)\n",
    "        models.append(model)\n",
    "         \n",
    "    return losses, models"
   ]
  },
  {
   "cell_type": "code",
   "execution_count": 4,
   "metadata": {},
   "outputs": [
    {
     "name": "stdout",
     "output_type": "stream",
     "text": [
      "Wall time: 2min 56s\n"
     ]
    }
   ],
   "source": [
    "%%time\n",
    "df = pd.read_csv(\n",
    "    './data/data.csv',\n",
    "    usecols=[\n",
    "        'date_time',\n",
    "        'zone_id',\n",
    "        'banner_id',\n",
    "        'campaign_clicks',\n",
    "        'os_id',\n",
    "        'country_id',\n",
    "        'clicks',\n",
    "        'oaid_hash',\n",
    "    ],\n",
    "    dtype={\n",
    "        'zone_id': np.uint16, \n",
    "        'banner_id': np.uint16,\n",
    "        'campaign_clicks': np.uint16,\n",
    "        'os_id': np.uint8,\n",
    "        'country_id': np.uint8,\n",
    "        'clicks': np.uint8,\n",
    "    }\n",
    ")\n",
    "\n",
    "df = df.sort_values('date_time')\n",
    "df['date_time'] = pd.to_datetime(df['date_time'])\n",
    "df['hour'] = df['date_time'].dt.hour.astype(np.uint8)"
   ]
  },
  {
   "cell_type": "markdown",
   "metadata": {},
   "source": [
    "Проведем анализ данных"
   ]
  },
  {
   "cell_type": "code",
   "execution_count": 5,
   "metadata": {},
   "outputs": [
    {
     "name": "stdout",
     "output_type": "stream",
     "text": [
      "2021-09-01          1\n",
      "2021-09-26    3102610\n",
      "2021-09-27    2367303\n",
      "2021-09-28    2307355\n",
      "2021-09-29    2420588\n",
      "2021-09-30    1851189\n",
      "2021-10-01    1643448\n",
      "2021-10-02    2128978\n",
      "Name: date_time, dtype: int64\n",
      "\n",
      "Имеем один показ 1 сентября. Какой-то залетный, можно его удалить.\n",
      "Показы проводились неделю следовательно бессмысленно пытаться использовать\n",
      "день недели как принзак т.к. один недели встречается лишь в одну дату.\n",
      "    \n"
     ]
    },
    {
     "data": {
      "image/png": "[encoded data removed]",
      "text/plain": [
       "<Figure size 432x288 with 1 Axes>"
      ]
     },
     "metadata": {
      "needs_background": "light"
     },
     "output_type": "display_data"
    },
    {
     "name": "stdout",
     "output_type": "stream",
     "text": [
      "\n",
      "Есть дневная цикличность. Возможно она поможет в построении модели.\n",
      "    \n",
      "################################\n"
     ]
    },
    {
     "data": {
      "image/png": "[encoded data removed]",
      "text/plain": [
       "<Figure size 432x288 with 1 Axes>"
      ]
     },
     "metadata": {
      "needs_background": "light"
     },
     "output_type": "display_data"
    },
    {
     "name": "stdout",
     "output_type": "stream",
     "text": [
      "\n",
      "Однозначно стоит использовать данный признак.\n",
      "    \n",
      "################################\n"
     ]
    },
    {
     "data": {
      "image/png": "[encoded data removed]",
      "text/plain": [
       "<Figure size 432x288 with 1 Axes>"
      ]
     },
     "metadata": {
      "needs_background": "light"
     },
     "output_type": "display_data"
    },
    {
     "name": "stdout",
     "output_type": "stream",
     "text": [
      "\n",
      "Однозначно стоит использовать данный признак.\n",
      "    \n",
      "################################\n",
      "zone_id\n",
      "\n",
      "    Краткая информация по признаку \"zone_id\":\n",
      "        Количество уникальный значений: 3444\n",
      "        В 95.0% встречается лишь 160 значений признака\n",
      "        \n",
      "banner_id\n",
      "\n",
      "    Краткая информация по признаку \"banner_id\":\n",
      "        Количество уникальный значений: 1633\n",
      "        В 95.0% встречается лишь 503 значений признака\n",
      "        \n",
      "os_id\n",
      "\n",
      "    Краткая информация по признаку \"os_id\":\n",
      "        Количество уникальный значений: 11\n",
      "        В 95.0% встречается лишь 4 значений признака\n",
      "        \n",
      "country_id\n",
      "\n",
      "    Краткая информация по признаку \"country_id\":\n",
      "        Количество уникальный значений: 17\n",
      "        В 95.0% встречается лишь 11 значений признака\n",
      "        \n"
     ]
    }
   ],
   "source": [
    "analysis(df)"
   ]
  },
  {
   "cell_type": "code",
   "execution_count": 6,
   "metadata": {},
   "outputs": [],
   "source": [
    "df = df[1:].reset_index(drop=True)"
   ]
  },
  {
   "cell_type": "markdown",
   "metadata": {},
   "source": [
    "Подготовим признаки для модели"
   ]
  },
  {
   "cell_type": "code",
   "execution_count": 7,
   "metadata": {},
   "outputs": [],
   "source": [
    "df = decrease_cardinality(df, 'zone_id')\n",
    "df = decrease_cardinality(df, 'banner_id')"
   ]
  },
  {
   "cell_type": "markdown",
   "metadata": {},
   "source": [
    "Модель только на OHE признаках"
   ]
  },
  {
   "cell_type": "code",
   "execution_count": 8,
   "metadata": {},
   "outputs": [],
   "source": [
    "dates = pd.date_range('2021-09-26', '2021-10-02', freq='1d')\n",
    "indexes = [df[df['date_time'] >= date].index.min() for date in dates]\n",
    "indexes = tuple(zip(indexes[:-2], indexes[1:-1], indexes[2:]))\n",
    "\n",
    "train_index_max = df[df['date_time'] < '2021-10-02'].index.max()\n",
    "\n",
    "x_train, x_test = df[:train_index_max], df[train_index_max:]\n",
    "y_train, y_test = df.iloc[:train_index_max]['clicks'], df.iloc[train_index_max:]['clicks']"
   ]
  },
  {
   "cell_type": "code",
   "execution_count": 9,
   "metadata": {},
   "outputs": [],
   "source": [
    "path_to_train_data = './data/train_ffm.txt'\n",
    "path_to_valid_data = './data/valid1_ffm.txt'\n",
    "path_to_model = './trained_models/model.out'\n",
    "path_to_predictions = './output/predictions.txt'\n",
    "\n",
    "param = {\n",
    "    'task': 'binary',\n",
    "    'lr': 0.2,\n",
    "    'lambda': 0.002,\n",
    "    'k': 4,\n",
    "    'epoch': 5,\n",
    "}"
   ]
  },
  {
   "cell_type": "code",
   "execution_count": 10,
   "metadata": {},
   "outputs": [
    {
     "name": "stdout",
     "output_type": "stream",
     "text": [
      "Train size: 3102611\n",
      "Valid size: 2367304\n",
      "Converting data to ffm_lib file format\n",
      "Done making train strings\n",
      "Done making valid strings\n",
      "Done writing train strings\n",
      "Done writing valid strings\n",
      "Learning\n",
      "Logloss: 0.083\n",
      "Train size: 2367304\n",
      "Valid size: 2307356\n",
      "Converting data to ffm_lib file format\n",
      "Done making train strings\n",
      "Done making valid strings\n",
      "Done writing train strings\n",
      "Done writing valid strings\n",
      "Learning\n",
      "Logloss: 0.0898\n",
      "Train size: 2307356\n",
      "Valid size: 2420589\n",
      "Converting data to ffm_lib file format\n",
      "Done making train strings\n",
      "Done making valid strings\n",
      "Done writing train strings\n",
      "Done writing valid strings\n",
      "Learning\n",
      "Logloss: 0.1178\n",
      "Train size: 2420589\n",
      "Valid size: 1851190\n",
      "Converting data to ffm_lib file format\n",
      "Done making train strings\n",
      "Done making valid strings\n",
      "Done writing train strings\n",
      "Done writing valid strings\n",
      "Learning\n",
      "Logloss: 0.1431\n",
      "Train size: 1851190\n",
      "Valid size: 1643447\n",
      "Converting data to ffm_lib file format\n",
      "Done making train strings\n",
      "Done making valid strings\n",
      "Done writing train strings\n",
      "Done writing valid strings\n",
      "Learning\n",
      "Logloss: 0.1579\n",
      "Wall time: 4min 26s\n"
     ]
    }
   ],
   "source": [
    "%%time\n",
    "NUMERICAL_FEATURES = ['campaign_clicks']\n",
    "CATEGORICAL_FEATURES = ['oaid_hash', 'banner_id']\n",
    "\n",
    "losses, models = cv(\n",
    "    x_train,\n",
    "    path_to_train_data,\n",
    "    y_train,\n",
    "    path_to_valid_data,\n",
    "    indexes,\n",
    "    NUMERICAL_FEATURES,\n",
    "    CATEGORICAL_FEATURES,\n",
    "    param,\n",
    "    path_to_model,\n",
    "    path_to_predictions\n",
    ")"
   ]
  },
  {
   "cell_type": "code",
   "execution_count": 24,
   "metadata": {},
   "outputs": [
    {
     "data": {
      "text/plain": [
       "(0.11907008848478866, 0.030298784207350344)"
      ]
     },
     "execution_count": 24,
     "metadata": {},
     "output_type": "execute_result"
    }
   ],
   "source": [
    "np.mean(losses), np.std(losses)"
   ]
  },
  {
   "cell_type": "code",
   "execution_count": 25,
   "metadata": {},
   "outputs": [
    {
     "name": "stdout",
     "output_type": "stream",
     "text": [
      "Train size: 3102611\n",
      "Valid size: 2367304\n",
      "Converting data to ffm_lib file format\n",
      "Done making train strings\n",
      "Done making valid strings\n",
      "Done writing train strings\n",
      "Done writing valid strings\n",
      "Learning\n",
      "Logloss: 0.0824\n",
      "Train size: 2367304\n",
      "Valid size: 2307356\n",
      "Converting data to ffm_lib file format\n",
      "Done making train strings\n",
      "Done making valid strings\n",
      "Done writing train strings\n",
      "Done writing valid strings\n",
      "Learning\n",
      "Logloss: 0.0893\n",
      "Train size: 2307356\n",
      "Valid size: 2420589\n",
      "Converting data to ffm_lib file format\n",
      "Done making train strings\n",
      "Done making valid strings\n",
      "Done writing train strings\n",
      "Done writing valid strings\n",
      "Learning\n",
      "Logloss: 0.1174\n",
      "Train size: 2420589\n",
      "Valid size: 1851190\n",
      "Converting data to ffm_lib file format\n",
      "Done making train strings\n",
      "Done making valid strings\n",
      "Done writing train strings\n",
      "Done writing valid strings\n",
      "Learning\n",
      "Logloss: 0.1422\n",
      "Train size: 1851190\n",
      "Valid size: 1643447\n",
      "Converting data to ffm_lib file format\n",
      "Done making train strings\n",
      "Done making valid strings\n",
      "Done writing train strings\n",
      "Done writing valid strings\n",
      "Learning\n",
      "Logloss: 0.1572\n",
      "Wall time: 5min 24s\n"
     ]
    }
   ],
   "source": [
    "%%time\n",
    "NUMERICAL_FEATURES = ['campaign_clicks']\n",
    "CATEGORICAL_FEATURES = ['oaid_hash', 'banner_id', 'os_id']\n",
    "\n",
    "losses, models = cv(\n",
    "    x_train,\n",
    "    path_to_train_data,\n",
    "    y_train,\n",
    "    path_to_valid_data,\n",
    "    indexes,\n",
    "    NUMERICAL_FEATURES,\n",
    "    CATEGORICAL_FEATURES,\n",
    "    param,\n",
    "    path_to_model,\n",
    "    path_to_predictions\n",
    ")"
   ]
  },
  {
   "cell_type": "code",
   "execution_count": 26,
   "metadata": {},
   "outputs": [
    {
     "data": {
      "text/plain": [
       "(0.11771618304562233, 0.029055173992892723)"
      ]
     },
     "execution_count": 26,
     "metadata": {},
     "output_type": "execute_result"
    }
   ],
   "source": [
    "np.mean(losses), np.std(losses)"
   ]
  },
  {
   "cell_type": "code",
   "execution_count": 27,
   "metadata": {},
   "outputs": [
    {
     "name": "stdout",
     "output_type": "stream",
     "text": [
      "Train size: 3102611\n",
      "Valid size: 2367304\n",
      "Converting data to ffm_lib file format\n",
      "Done making train strings\n",
      "Done making valid strings\n",
      "Done writing train strings\n",
      "Done writing valid strings\n",
      "Learning\n",
      "Logloss: 0.0826\n",
      "Train size: 2367304\n",
      "Valid size: 2307356\n",
      "Converting data to ffm_lib file format\n",
      "Done making train strings\n",
      "Done making valid strings\n",
      "Done writing train strings\n",
      "Done writing valid strings\n",
      "Learning\n",
      "Logloss: 0.0889\n",
      "Train size: 2307356\n",
      "Valid size: 2420589\n",
      "Converting data to ffm_lib file format\n",
      "Done making train strings\n",
      "Done making valid strings\n",
      "Done writing train strings\n",
      "Done writing valid strings\n",
      "Learning\n",
      "Logloss: 0.1165\n",
      "Train size: 2420589\n",
      "Valid size: 1851190\n",
      "Converting data to ffm_lib file format\n",
      "Done making train strings\n",
      "Done making valid strings\n",
      "Done writing train strings\n",
      "Done writing valid strings\n",
      "Learning\n",
      "Logloss: 0.1387\n",
      "Train size: 1851190\n",
      "Valid size: 1643447\n",
      "Converting data to ffm_lib file format\n",
      "Done making train strings\n",
      "Done making valid strings\n",
      "Done writing train strings\n",
      "Done writing valid strings\n",
      "Learning\n",
      "Logloss: 0.1543\n",
      "Wall time: 6min 17s\n"
     ]
    }
   ],
   "source": [
    "%%time\n",
    "NUMERICAL_FEATURES = ['campaign_clicks']\n",
    "CATEGORICAL_FEATURES = ['oaid_hash', 'banner_id', 'os_id', 'zone_id']\n",
    "\n",
    "losses, models = cv(\n",
    "    x_train,\n",
    "    path_to_train_data,\n",
    "    y_train,\n",
    "    path_to_valid_data,\n",
    "    indexes,\n",
    "    NUMERICAL_FEATURES,\n",
    "    CATEGORICAL_FEATURES,\n",
    "    param,\n",
    "    path_to_model,\n",
    "    path_to_predictions\n",
    ")"
   ]
  },
  {
   "cell_type": "code",
   "execution_count": 28,
   "metadata": {},
   "outputs": [
    {
     "data": {
      "text/plain": [
       "(0.11620228118420736, 0.027694247367469553)"
      ]
     },
     "execution_count": 28,
     "metadata": {},
     "output_type": "execute_result"
    }
   ],
   "source": [
    "np.mean(losses), np.std(losses)"
   ]
  },
  {
   "cell_type": "code",
   "execution_count": 43,
   "metadata": {},
   "outputs": [
    {
     "name": "stdout",
     "output_type": "stream",
     "text": [
      "Train size: 3102611\n",
      "Valid size: 2367304\n",
      "Converting data to ffm_lib file format\n",
      "Done making train strings\n",
      "Done making valid strings\n",
      "Done writing train strings\n",
      "Done writing valid strings\n",
      "Learning\n",
      "Logloss: 0.0845\n",
      "Train size: 2367304\n",
      "Valid size: 2307356\n",
      "Converting data to ffm_lib file format\n",
      "Done making train strings\n",
      "Done making valid strings\n",
      "Done writing train strings\n",
      "Done writing valid strings\n",
      "Learning\n",
      "Logloss: 0.091\n",
      "Train size: 2307356\n",
      "Valid size: 2420589\n",
      "Converting data to ffm_lib file format\n",
      "Done making train strings\n",
      "Done making valid strings\n",
      "Done writing train strings\n",
      "Done writing valid strings\n",
      "Learning\n",
      "Logloss: 0.1181\n",
      "Train size: 2420589\n",
      "Valid size: 1851190\n",
      "Converting data to ffm_lib file format\n",
      "Done making train strings\n",
      "Done making valid strings\n",
      "Done writing train strings\n",
      "Done writing valid strings\n",
      "Learning\n",
      "Logloss: 0.1421\n",
      "Train size: 1851190\n",
      "Valid size: 1643447\n",
      "Converting data to ffm_lib file format\n",
      "Done making train strings\n",
      "Done making valid strings\n",
      "Done writing train strings\n",
      "Done writing valid strings\n",
      "Learning\n",
      "Logloss: 0.1586\n",
      "Wall time: 7min 17s\n"
     ]
    }
   ],
   "source": [
    "%%time\n",
    "NUMERICAL_FEATURES = ['campaign_clicks']\n",
    "CATEGORICAL_FEATURES = ['oaid_hash', 'banner_id', 'os_id', 'zone_id', 'country_id']\n",
    "\n",
    "losses, models = cv(\n",
    "    x_train,\n",
    "    path_to_train_data,\n",
    "    y_train,\n",
    "    path_to_valid_data,\n",
    "    indexes,\n",
    "    NUMERICAL_FEATURES,\n",
    "    CATEGORICAL_FEATURES,\n",
    "    param,\n",
    "    path_to_model,\n",
    "    path_to_predictions\n",
    ")"
   ]
  },
  {
   "cell_type": "code",
   "execution_count": 44,
   "metadata": {},
   "outputs": [
    {
     "data": {
      "text/plain": [
       "(0.11884671397172183, 0.028539050098160098)"
      ]
     },
     "execution_count": 44,
     "metadata": {},
     "output_type": "execute_result"
    }
   ],
   "source": [
    "np.mean(losses), np.std(losses)"
   ]
  },
  {
   "cell_type": "markdown",
   "metadata": {},
   "source": [
    "В предыдущий раз обучал модель с country_id. Теперь данный признак ухудшает качество. Возможно дело в том, что длина эмбединга стала меньше чем кол-во полей. Давайте попробуем их выровнять."
   ]
  },
  {
   "cell_type": "code",
   "execution_count": 45,
   "metadata": {},
   "outputs": [
    {
     "name": "stdout",
     "output_type": "stream",
     "text": [
      "Train size: 3102611\n",
      "Valid size: 2367304\n",
      "Converting data to ffm_lib file format\n",
      "Done making train strings\n",
      "Done making valid strings\n",
      "Done writing train strings\n",
      "Done writing valid strings\n",
      "Learning\n",
      "Logloss: 0.0845\n",
      "Train size: 2367304\n",
      "Valid size: 2307356\n",
      "Converting data to ffm_lib file format\n",
      "Done making train strings\n",
      "Done making valid strings\n",
      "Done writing train strings\n",
      "Done writing valid strings\n",
      "Learning\n",
      "Logloss: 0.091\n",
      "Train size: 2307356\n",
      "Valid size: 2420589\n",
      "Converting data to ffm_lib file format\n",
      "Done making train strings\n",
      "Done making valid strings\n",
      "Done writing train strings\n",
      "Done writing valid strings\n",
      "Learning\n",
      "Logloss: 0.118\n",
      "Train size: 2420589\n",
      "Valid size: 1851190\n",
      "Converting data to ffm_lib file format\n",
      "Done making train strings\n",
      "Done making valid strings\n",
      "Done writing train strings\n",
      "Done writing valid strings\n",
      "Learning\n",
      "Logloss: 0.1421\n",
      "Train size: 1851190\n",
      "Valid size: 1643447\n",
      "Converting data to ffm_lib file format\n",
      "Done making train strings\n",
      "Done making valid strings\n",
      "Done writing train strings\n",
      "Done writing valid strings\n",
      "Learning\n",
      "Logloss: 0.1585\n",
      "Wall time: 8min 15s\n"
     ]
    }
   ],
   "source": [
    "%%time\n",
    "NUMERICAL_FEATURES = ['campaign_clicks']\n",
    "CATEGORICAL_FEATURES = ['oaid_hash', 'banner_id', 'os_id', 'zone_id', 'country_id']\n",
    "\n",
    "param = {\n",
    "    'task': 'binary',\n",
    "    'lr': 0.2,\n",
    "    'lambda': 0.002,\n",
    "    'k': 5,\n",
    "    'epoch': 5,\n",
    "}\n",
    "\n",
    "losses, models = cv(\n",
    "    x_train,\n",
    "    path_to_train_data,\n",
    "    y_train,\n",
    "    path_to_valid_data,\n",
    "    indexes,\n",
    "    NUMERICAL_FEATURES,\n",
    "    CATEGORICAL_FEATURES,\n",
    "    param,\n",
    "    path_to_model,\n",
    "    path_to_predictions\n",
    ")"
   ]
  },
  {
   "cell_type": "code",
   "execution_count": 46,
   "metadata": {},
   "outputs": [
    {
     "data": {
      "text/plain": [
       "(0.11883009436607869, 0.028518086489418646)"
      ]
     },
     "execution_count": 46,
     "metadata": {},
     "output_type": "execute_result"
    }
   ],
   "source": [
    "np.mean(losses), np.std(losses)"
   ]
  },
  {
   "cell_type": "markdown",
   "metadata": {},
   "source": [
    "Ничего не вышло. Придется выкинуть country_id."
   ]
  },
  {
   "cell_type": "markdown",
   "metadata": {},
   "source": [
    "Подберем параметры для модели на фиксированном наборе признаков."
   ]
  },
  {
   "cell_type": "code",
   "execution_count": 17,
   "metadata": {},
   "outputs": [
    {
     "name": "stdout",
     "output_type": "stream",
     "text": [
      "Train size: 3102611\n",
      "Valid size: 2367304\n",
      "Converting data to ffm_lib file format\n",
      "Done making train strings\n",
      "Done making valid strings\n",
      "Done writing train strings\n",
      "Done writing valid strings\n",
      "Learning\n",
      "Logloss: 0.0837\n",
      "Train size: 2367304\n",
      "Valid size: 2307356\n",
      "Converting data to ffm_lib file format\n",
      "Done making train strings\n",
      "Done making valid strings\n",
      "Done writing train strings\n",
      "Done writing valid strings\n",
      "Learning\n",
      "Logloss: 0.09\n",
      "Train size: 2307356\n",
      "Valid size: 2420589\n",
      "Converting data to ffm_lib file format\n",
      "Done making train strings\n",
      "Done making valid strings\n",
      "Done writing train strings\n",
      "Done writing valid strings\n",
      "Learning\n",
      "Logloss: 0.1172\n",
      "Train size: 2420589\n",
      "Valid size: 1851190\n",
      "Converting data to ffm_lib file format\n",
      "Done making train strings\n",
      "Done making valid strings\n",
      "Done writing train strings\n",
      "Done writing valid strings\n",
      "Learning\n",
      "Logloss: 0.14\n",
      "Train size: 1851190\n",
      "Valid size: 1643447\n",
      "Converting data to ffm_lib file format\n",
      "Done making train strings\n",
      "Done making valid strings\n",
      "Done writing train strings\n",
      "Done writing valid strings\n",
      "Learning\n",
      "Logloss: 0.1562\n",
      "Wall time: 6min 23s\n"
     ]
    }
   ],
   "source": [
    "%%time\n",
    "NUMERICAL_FEATURES = ['campaign_clicks']\n",
    "CATEGORICAL_FEATURES = ['oaid_hash', 'banner_id', 'os_id', 'zone_id']\n",
    "\n",
    "param = {\n",
    "    'task': 'binary',\n",
    "    'lr': 0.2,\n",
    "    'lambda': 0.002,\n",
    "    'k': 6,\n",
    "    'epoch': 5,\n",
    "}\n",
    "\n",
    "losses, models = cv(\n",
    "    x_train,\n",
    "    path_to_train_data,\n",
    "    y_train,\n",
    "    path_to_valid_data,\n",
    "    indexes,\n",
    "    NUMERICAL_FEATURES,\n",
    "    CATEGORICAL_FEATURES,\n",
    "    param,\n",
    "    path_to_model,\n",
    "    path_to_predictions\n",
    ")"
   ]
  },
  {
   "cell_type": "code",
   "execution_count": 20,
   "metadata": {},
   "outputs": [
    {
     "data": {
      "text/plain": [
       "(0.11741377182551709, 0.02794670274576291)"
      ]
     },
     "execution_count": 20,
     "metadata": {},
     "output_type": "execute_result"
    }
   ],
   "source": [
    "np.mean(losses), np.std(losses)"
   ]
  },
  {
   "cell_type": "code",
   "execution_count": 21,
   "metadata": {},
   "outputs": [
    {
     "name": "stdout",
     "output_type": "stream",
     "text": [
      "Train size: 3102611\n",
      "Valid size: 2367304\n",
      "Converting data to ffm_lib file format\n",
      "Done making train strings\n",
      "Done making valid strings\n",
      "Done writing train strings\n",
      "Done writing valid strings\n",
      "Learning\n",
      "Logloss: 0.0837\n",
      "Train size: 2367304\n",
      "Valid size: 2307356\n",
      "Converting data to ffm_lib file format\n",
      "Done making train strings\n",
      "Done making valid strings\n",
      "Done writing train strings\n",
      "Done writing valid strings\n",
      "Learning\n",
      "Logloss: 0.0901\n",
      "Train size: 2307356\n",
      "Valid size: 2420589\n",
      "Converting data to ffm_lib file format\n",
      "Done making train strings\n",
      "Done making valid strings\n",
      "Done writing train strings\n",
      "Done writing valid strings\n",
      "Learning\n",
      "Logloss: 0.1173\n",
      "Train size: 2420589\n",
      "Valid size: 1851190\n",
      "Converting data to ffm_lib file format\n",
      "Done making train strings\n",
      "Done making valid strings\n",
      "Done writing train strings\n",
      "Done writing valid strings\n",
      "Learning\n",
      "Logloss: 0.1399\n",
      "Train size: 1851190\n",
      "Valid size: 1643447\n",
      "Converting data to ffm_lib file format\n",
      "Done making train strings\n",
      "Done making valid strings\n",
      "Done writing train strings\n",
      "Done writing valid strings\n",
      "Learning\n",
      "Logloss: 0.1562\n",
      "Wall time: 6min 8s\n"
     ]
    }
   ],
   "source": [
    "%%time\n",
    "NUMERICAL_FEATURES = ['campaign_clicks']\n",
    "CATEGORICAL_FEATURES = ['oaid_hash', 'banner_id', 'os_id', 'zone_id']\n",
    "\n",
    "param = {\n",
    "    'task': 'binary',\n",
    "    'lr': 0.2,\n",
    "    'lambda': 0.002,\n",
    "    'k': 3,\n",
    "    'epoch': 5,\n",
    "}\n",
    "\n",
    "losses, models = cv(\n",
    "    x_train,\n",
    "    path_to_train_data,\n",
    "    y_train,\n",
    "    path_to_valid_data,\n",
    "    indexes,\n",
    "    NUMERICAL_FEATURES,\n",
    "    CATEGORICAL_FEATURES,\n",
    "    param,\n",
    "    path_to_model,\n",
    "    path_to_predictions\n",
    ")"
   ]
  },
  {
   "cell_type": "code",
   "execution_count": 22,
   "metadata": {},
   "outputs": [
    {
     "data": {
      "text/plain": [
       "(0.11743593134912363, 0.02791670571723133)"
      ]
     },
     "execution_count": 22,
     "metadata": {},
     "output_type": "execute_result"
    }
   ],
   "source": [
    "np.mean(losses), np.std(losses)"
   ]
  },
  {
   "cell_type": "markdown",
   "metadata": {},
   "source": [
    "Подбор размера скрытого вектора и кол-ва эпох особых результатов не дал.\n",
    "Обучим модель с базовыми пааметрами еще раз и предскажем на тесте."
   ]
  },
  {
   "cell_type": "code",
   "execution_count": 11,
   "metadata": {},
   "outputs": [
    {
     "name": "stdout",
     "output_type": "stream",
     "text": [
      "Train size: 3102611\n",
      "Valid size: 2367304\n",
      "Converting data to ffm_lib file format\n",
      "Done making train strings\n",
      "Done making valid strings\n",
      "Done writing train strings\n",
      "Done writing valid strings\n",
      "Learning\n",
      "Logloss: 0.0819\n",
      "Train size: 2367304\n",
      "Valid size: 2307356\n",
      "Converting data to ffm_lib file format\n",
      "Done making train strings\n",
      "Done making valid strings\n",
      "Done writing train strings\n",
      "Done writing valid strings\n",
      "Learning\n",
      "Logloss: 0.0883\n",
      "Train size: 2307356\n",
      "Valid size: 2420589\n",
      "Converting data to ffm_lib file format\n",
      "Done making train strings\n",
      "Done making valid strings\n",
      "Done writing train strings\n",
      "Done writing valid strings\n",
      "Learning\n",
      "Logloss: 0.1161\n",
      "Train size: 2420589\n",
      "Valid size: 1851190\n",
      "Converting data to ffm_lib file format\n",
      "Done making train strings\n",
      "Done making valid strings\n",
      "Done writing train strings\n",
      "Done writing valid strings\n",
      "Learning\n",
      "Logloss: 0.1387\n",
      "Train size: 1851190\n",
      "Valid size: 1643447\n",
      "Converting data to ffm_lib file format\n",
      "Done making train strings\n",
      "Done making valid strings\n",
      "Done writing train strings\n",
      "Done writing valid strings\n",
      "Learning\n",
      "Logloss: 0.1538\n",
      "Wall time: 7min 43s\n"
     ]
    }
   ],
   "source": [
    "%%time\n",
    "NUMERICAL_FEATURES = ['campaign_clicks']\n",
    "CATEGORICAL_FEATURES = ['oaid_hash', 'banner_id', 'os_id', 'zone_id']\n",
    "\n",
    "param = {\n",
    "    'task': 'binary',\n",
    "    'lr': 0.2,\n",
    "    'lambda': 0.002,\n",
    "    'k': 4,\n",
    "    'epoch': 15,\n",
    "    'metric': 'auc',\n",
    "}\n",
    "\n",
    "losses, models = cv(\n",
    "    x_train,\n",
    "    path_to_train_data,\n",
    "    y_train,\n",
    "    path_to_valid_data,\n",
    "    indexes,\n",
    "    NUMERICAL_FEATURES,\n",
    "    CATEGORICAL_FEATURES,\n",
    "    param,\n",
    "    path_to_model,\n",
    "    path_to_predictions\n",
    ")"
   ]
  },
  {
   "cell_type": "code",
   "execution_count": 13,
   "metadata": {},
   "outputs": [
    {
     "name": "stdout",
     "output_type": "stream",
     "text": [
      "Train size: 3102611\n",
      "Valid size: 2367304\n",
      "Converting data to ffm_lib file format\n",
      "Done making train strings\n",
      "Done making valid strings\n",
      "Done writing train strings\n",
      "Done writing valid strings\n",
      "Learning\n",
      "Logloss: 0.0812\n",
      "Train size: 2367304\n",
      "Valid size: 2307356\n",
      "Converting data to ffm_lib file format\n",
      "Done making train strings\n",
      "Done making valid strings\n",
      "Done writing train strings\n",
      "Done writing valid strings\n",
      "Learning\n",
      "Logloss: 0.0882\n",
      "Train size: 2307356\n",
      "Valid size: 2420589\n",
      "Converting data to ffm_lib file format\n",
      "Done making train strings\n",
      "Done making valid strings\n",
      "Done writing train strings\n",
      "Done writing valid strings\n",
      "Learning\n",
      "Logloss: 0.1171\n",
      "Train size: 2420589\n",
      "Valid size: 1851190\n",
      "Converting data to ffm_lib file format\n",
      "Done making train strings\n",
      "Done making valid strings\n",
      "Done writing train strings\n",
      "Done writing valid strings\n",
      "Learning\n",
      "Logloss: 0.1386\n",
      "Train size: 1851190\n",
      "Valid size: 1643447\n",
      "Converting data to ffm_lib file format\n",
      "Done making train strings\n",
      "Done making valid strings\n",
      "Done writing train strings\n",
      "Done writing valid strings\n",
      "Learning\n",
      "Logloss: 0.1536\n",
      "Wall time: 10min 13s\n"
     ]
    }
   ],
   "source": [
    "%%time\n",
    "NUMERICAL_FEATURES = ['campaign_clicks']\n",
    "CATEGORICAL_FEATURES = ['oaid_hash', 'banner_id', 'os_id', 'zone_id']\n",
    "\n",
    "param = {\n",
    "    'task': 'binary',\n",
    "    'lr': 0.2,\n",
    "    'lambda': 0.002,\n",
    "    'k': 3,\n",
    "    'epoch': 30,\n",
    "    'metric': 'auc',\n",
    "}\n",
    "\n",
    "losses, models = cv(\n",
    "    x_train,\n",
    "    path_to_train_data,\n",
    "    y_train,\n",
    "    path_to_valid_data,\n",
    "    indexes,\n",
    "    NUMERICAL_FEATURES,\n",
    "    CATEGORICAL_FEATURES,\n",
    "    param,\n",
    "    path_to_model,\n",
    "    path_to_predictions\n",
    ")"
   ]
  },
  {
   "cell_type": "code",
   "execution_count": 16,
   "metadata": {},
   "outputs": [
    {
     "name": "stdout",
     "output_type": "stream",
     "text": [
      "Converting data to ffm_lib file format\n",
      "Done making test strings\n",
      "Done writing test strings\n"
     ]
    }
   ],
   "source": [
    "path_to_test_data = './data/test_ffm.txt'\n",
    "\n",
    "NUMERICAL_FEATURES = ['campaign_clicks']\n",
    "CATEGORICAL_FEATURES = ['oaid_hash', 'banner_id', 'os_id', 'zone_id']\n",
    "\n",
    "print('Converting data to ffm_lib file format')\n",
    "x_test, _ = encode_cat_features(x_test.copy(), x_test.copy(), CATEGORICAL_FEATURES)\n",
    "\n",
    "test_strings = create_string(x_test, NUMERICAL_FEATURES, CATEGORICAL_FEATURES)\n",
    "print('Done making test strings')\n",
    "\n",
    "with open(path_to_test_data, 'w') as f:\n",
    "    for row in test_strings:\n",
    "        f.write(row)  \n",
    "print('Done writing test strings') "
   ]
  },
  {
   "cell_type": "code",
   "execution_count": 17,
   "metadata": {},
   "outputs": [],
   "source": [
    "def predict(model):\n",
    "    model.setTest(path_to_test_data)\n",
    "    model.setSigmoid()\n",
    "    model.predict(path_to_model, path_to_predictions)\n",
    "\n",
    "    with open(path_to_predictions, 'r') as f:\n",
    "        data = f.read().split('\\n')[:-1]\n",
    "\n",
    "    return log_loss(y_test, pd.Series(data).astype('float'))   "
   ]
  },
  {
   "cell_type": "code",
   "execution_count": 18,
   "metadata": {},
   "outputs": [
    {
     "data": {
      "text/plain": [
       "0.14643649390012808"
      ]
     },
     "execution_count": 18,
     "metadata": {},
     "output_type": "execute_result"
    }
   ],
   "source": [
    "predict(models[-1])"
   ]
  },
  {
   "cell_type": "markdown",
   "metadata": {},
   "source": [
    "В лаобраторной №1 получилось вот так"
   ]
  },
  {
   "cell_type": "code",
   "execution_count": 26,
   "metadata": {},
   "outputs": [
    {
     "name": "stdout",
     "output_type": "stream",
     "text": [
      "Лучший параметр С: 0.1668100537200059\n",
      "Logloss рандомной модели: 0.15303284409655607\n",
      "Logloss на модели за предыдущий день: 0.1333048943374224\n",
      "Logloss на усредненной модели: 0.13713972438217994\n"
     ]
    }
   ],
   "source": [
    "cv_result = pd.DataFrame(losses_total, index=coeffs)\n",
    "best_c = cv_result.mean(axis=1).sort_values().index[0]\n",
    "best_arg = (coeffs == best_c).argmax()\n",
    "\n",
    "predict = [model.predict_proba(x_test)[:, 1] for model in models_total[best_arg]]\n",
    "\n",
    "print(f'Лучший параметр С: {best_c}')\n",
    "print(f'Logloss рандомной модели: {log_loss(y_test, [y_test.mean()]*y_test.shape[0])}')\n",
    "print(f'Logloss на модели за предыдущий день: {log_loss(y_test, predict[-1])}')\n",
    "print(f'Logloss на усредненной модели: {log_loss(y_test, np.mean(predict, axis=0))}')"
   ]
  },
  {
   "cell_type": "markdown",
   "metadata": {},
   "source": [
    "Разбираться с ffm намного тяжелее чем с LR. В частности за счет скорости обучения и необходимости заранее формировать файлы для обучения и предсказаний. В целом в статьях показано, что FFM хорошо работает на больших и разреженных данных. В данном случае не удалось побить результыт с первой работы. Причин несколько: 1) первая работа сделано относительно хорошо 2) не совсем очевидно нужно ли генерировать взаимодействия признаков как фичи. Есть ощущение, что ffm сам за нас это делает; 3) плохо подбирал гиперпараметры, но не думаю, что ими можно объяснить такую разницу в метриках; 4) почему-то country_id ухудшил качество модели"
   ]
  }
 ],
 "metadata": {
  "kernelspec": {
   "display_name": "Python 3",
   "language": "python",
   "name": "python3"
  },
  "language_info": {
   "codemirror_mode": {
    "name": "ipython",
    "version": 3
   },
   "file_extension": ".py",
   "mimetype": "text/x-python",
   "name": "python",
   "nbconvert_exporter": "python",
   "pygments_lexer": "ipython3",
   "version": "3.7.3"
  }
 },
 "nbformat": 4,
 "nbformat_minor": 2
}
